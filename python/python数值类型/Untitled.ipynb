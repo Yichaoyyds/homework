{
 "cells": [
  {
   "cell_type": "code",
   "execution_count": 1,
   "id": "0380ea73",
   "metadata": {},
   "outputs": [],
   "source": [
    "import random"
   ]
  },
  {
   "cell_type": "code",
   "execution_count": 2,
   "id": "f3763047",
   "metadata": {
    "collapsed": true
   },
   "outputs": [
    {
     "data": {
      "text/plain": [
       "['BPF',\n",
       " 'LOG4',\n",
       " 'NV_MAGICCONST',\n",
       " 'RECIP_BPF',\n",
       " 'Random',\n",
       " 'SG_MAGICCONST',\n",
       " 'SystemRandom',\n",
       " 'TWOPI',\n",
       " '_BuiltinMethodType',\n",
       " '_MethodType',\n",
       " '_Sequence',\n",
       " '_Set',\n",
       " '__all__',\n",
       " '__builtins__',\n",
       " '__cached__',\n",
       " '__doc__',\n",
       " '__file__',\n",
       " '__loader__',\n",
       " '__name__',\n",
       " '__package__',\n",
       " '__spec__',\n",
       " '_acos',\n",
       " '_bisect',\n",
       " '_ceil',\n",
       " '_cos',\n",
       " '_e',\n",
       " '_exp',\n",
       " '_inst',\n",
       " '_itertools',\n",
       " '_log',\n",
       " '_pi',\n",
       " '_random',\n",
       " '_sha512',\n",
       " '_sin',\n",
       " '_sqrt',\n",
       " '_test',\n",
       " '_test_generator',\n",
       " '_urandom',\n",
       " '_warn',\n",
       " 'betavariate',\n",
       " 'choice',\n",
       " 'choices',\n",
       " 'expovariate',\n",
       " 'gammavariate',\n",
       " 'gauss',\n",
       " 'getrandbits',\n",
       " 'getstate',\n",
       " 'lognormvariate',\n",
       " 'normalvariate',\n",
       " 'paretovariate',\n",
       " 'randint',\n",
       " 'random',\n",
       " 'randrange',\n",
       " 'sample',\n",
       " 'seed',\n",
       " 'setstate',\n",
       " 'shuffle',\n",
       " 'triangular',\n",
       " 'uniform',\n",
       " 'vonmisesvariate',\n",
       " 'weibullvariate']"
      ]
     },
     "execution_count": 2,
     "metadata": {},
     "output_type": "execute_result"
    }
   ],
   "source": [
    "dir(random)"
   ]
  },
  {
   "cell_type": "code",
   "execution_count": 8,
   "id": "d74e6d8f",
   "metadata": {},
   "outputs": [
    {
     "name": "stdout",
     "output_type": "stream",
     "text": [
      "请输入一个数字67\n",
      "输入的数字小了，请重新输入\n",
      "请输入一个数字78\n",
      "输入的大了，请重新输入\n",
      "请输入一个数字74\n",
      "输入的大了，请重新输入\n",
      "请输入一个数字70\n",
      "输入的数字小了，请重新输入\n",
      "请输入一个数字71\n",
      "你猜了4次对了\n"
     ]
    }
   ],
   "source": [
    "guss = random.randint(1,101)\n",
    "g = int(input('请输入一个数字'))\n",
    "i = 0\n",
    "while i < 101:\n",
    "    if guss>g:\n",
    "        print('输入的数字小了，请重新输入')\n",
    "        i = i+1\n",
    "        g = int(input('请输入一个数字'))\n",
    "    elif guss<g:\n",
    "        print('输入的大了，请重新输入')\n",
    "        i = i+1\n",
    "        g = int(input('请输入一个数字'))\n",
    "    else:\n",
    "        print('你猜了{}次对了'.format(i))\n",
    "        break"
   ]
  },
  {
   "cell_type": "code",
   "execution_count": 10,
   "id": "14697010",
   "metadata": {},
   "outputs": [
    {
     "name": "stdout",
     "output_type": "stream",
     "text": [
      "请输入一个数字783\n",
      "输入的大了，请重新输入\n",
      "请输入一个数字32\n",
      "输入的大了，请重新输入\n",
      "请输入一个数字23\n",
      "输入的大了，请重新输入\n",
      "请输入一个数字54\n",
      "输入的大了，请重新输入\n",
      "请输入一个数字65\n",
      "输入的大了，请重新输入\n",
      "请输入一个数字65\n",
      "输入的大了，请重新输入\n",
      "请输入一个数字54\n",
      "你猜了6次没猜对\n"
     ]
    }
   ],
   "source": [
    "guss = random.randint(1,101)\n",
    "g = int(input('请输入一个数字'))\n",
    "i = 0\n",
    "while i < 6:\n",
    "    if guss>g:\n",
    "        print('输入的数字小了，请重新输入')\n",
    "        i = i+1\n",
    "        g = int(input('请输入一个数字'))\n",
    "    elif guss<g:\n",
    "        print('输入的大了，请重新输入')\n",
    "        i = i+1\n",
    "        g = int(input('请输入一个数字'))\n",
    "    else:\n",
    "        print('你猜了{}次对了'.format(i))\n",
    "        break\n",
    "print('你猜了6次没猜对')"
   ]
  },
  {
   "cell_type": "code",
   "execution_count": 26,
   "id": "d841258c",
   "metadata": {},
   "outputs": [
    {
     "ename": "KeyboardInterrupt",
     "evalue": "Interrupted by user",
     "output_type": "error",
     "traceback": [
      "\u001b[1;31m---------------------------------------------------------------------------\u001b[0m",
      "\u001b[1;31mKeyboardInterrupt\u001b[0m                         Traceback (most recent call last)",
      "\u001b[1;32m<ipython-input-26-3a187f52f388>\u001b[0m in \u001b[0;36m<module>\u001b[1;34m\u001b[0m\n\u001b[0;32m      1\u001b[0m \u001b[0mguss\u001b[0m \u001b[1;33m=\u001b[0m \u001b[0mrandom\u001b[0m\u001b[1;33m.\u001b[0m\u001b[0mrandint\u001b[0m\u001b[1;33m(\u001b[0m\u001b[1;36m1\u001b[0m\u001b[1;33m,\u001b[0m\u001b[1;36m101\u001b[0m\u001b[1;33m)\u001b[0m\u001b[1;33m\u001b[0m\u001b[1;33m\u001b[0m\u001b[0m\n\u001b[1;32m----> 2\u001b[1;33m \u001b[0mg\u001b[0m \u001b[1;33m=\u001b[0m \u001b[0mint\u001b[0m\u001b[1;33m(\u001b[0m\u001b[0minput\u001b[0m\u001b[1;33m(\u001b[0m\u001b[1;34m'请输入一个数字'\u001b[0m\u001b[1;33m)\u001b[0m\u001b[1;33m)\u001b[0m\u001b[1;33m\u001b[0m\u001b[1;33m\u001b[0m\u001b[0m\n\u001b[0m\u001b[0;32m      3\u001b[0m \u001b[0ma\u001b[0m \u001b[1;33m=\u001b[0m \u001b[1;36m100\u001b[0m\u001b[1;33m\u001b[0m\u001b[1;33m\u001b[0m\u001b[0m\n\u001b[0;32m      4\u001b[0m \u001b[0mb\u001b[0m \u001b[1;33m=\u001b[0m \u001b[1;36m0\u001b[0m\u001b[1;33m\u001b[0m\u001b[1;33m\u001b[0m\u001b[0m\n\u001b[0;32m      5\u001b[0m \u001b[0mi\u001b[0m \u001b[1;33m=\u001b[0m \u001b[1;36m0\u001b[0m\u001b[1;33m\u001b[0m\u001b[1;33m\u001b[0m\u001b[0m\n",
      "\u001b[1;32md:\\python\\lib\\site-packages\\ipykernel\\kernelbase.py\u001b[0m in \u001b[0;36mraw_input\u001b[1;34m(self, prompt)\u001b[0m\n\u001b[0;32m    852\u001b[0m             \u001b[0mself\u001b[0m\u001b[1;33m.\u001b[0m\u001b[0m_parent_ident\u001b[0m\u001b[1;33m,\u001b[0m\u001b[1;33m\u001b[0m\u001b[1;33m\u001b[0m\u001b[0m\n\u001b[0;32m    853\u001b[0m             \u001b[0mself\u001b[0m\u001b[1;33m.\u001b[0m\u001b[0m_parent_header\u001b[0m\u001b[1;33m,\u001b[0m\u001b[1;33m\u001b[0m\u001b[1;33m\u001b[0m\u001b[0m\n\u001b[1;32m--> 854\u001b[1;33m             \u001b[0mpassword\u001b[0m\u001b[1;33m=\u001b[0m\u001b[1;32mFalse\u001b[0m\u001b[1;33m,\u001b[0m\u001b[1;33m\u001b[0m\u001b[1;33m\u001b[0m\u001b[0m\n\u001b[0m\u001b[0;32m    855\u001b[0m         )\n\u001b[0;32m    856\u001b[0m \u001b[1;33m\u001b[0m\u001b[0m\n",
      "\u001b[1;32md:\\python\\lib\\site-packages\\ipykernel\\kernelbase.py\u001b[0m in \u001b[0;36m_input_request\u001b[1;34m(self, prompt, ident, parent, password)\u001b[0m\n\u001b[0;32m    893\u001b[0m             \u001b[1;32mexcept\u001b[0m \u001b[0mKeyboardInterrupt\u001b[0m\u001b[1;33m:\u001b[0m\u001b[1;33m\u001b[0m\u001b[1;33m\u001b[0m\u001b[0m\n\u001b[0;32m    894\u001b[0m                 \u001b[1;31m# re-raise KeyboardInterrupt, to truncate traceback\u001b[0m\u001b[1;33m\u001b[0m\u001b[1;33m\u001b[0m\u001b[1;33m\u001b[0m\u001b[0m\n\u001b[1;32m--> 895\u001b[1;33m                 \u001b[1;32mraise\u001b[0m \u001b[0mKeyboardInterrupt\u001b[0m\u001b[1;33m(\u001b[0m\u001b[1;34m\"Interrupted by user\"\u001b[0m\u001b[1;33m)\u001b[0m \u001b[1;32mfrom\u001b[0m \u001b[1;32mNone\u001b[0m\u001b[1;33m\u001b[0m\u001b[1;33m\u001b[0m\u001b[0m\n\u001b[0m\u001b[0;32m    896\u001b[0m             \u001b[1;32mexcept\u001b[0m \u001b[0mException\u001b[0m \u001b[1;32mas\u001b[0m \u001b[0me\u001b[0m\u001b[1;33m:\u001b[0m\u001b[1;33m\u001b[0m\u001b[1;33m\u001b[0m\u001b[0m\n\u001b[0;32m    897\u001b[0m                 \u001b[0mself\u001b[0m\u001b[1;33m.\u001b[0m\u001b[0mlog\u001b[0m\u001b[1;33m.\u001b[0m\u001b[0mwarning\u001b[0m\u001b[1;33m(\u001b[0m\u001b[1;34m\"Invalid Message:\"\u001b[0m\u001b[1;33m,\u001b[0m \u001b[0mexc_info\u001b[0m\u001b[1;33m=\u001b[0m\u001b[1;32mTrue\u001b[0m\u001b[1;33m)\u001b[0m\u001b[1;33m\u001b[0m\u001b[1;33m\u001b[0m\u001b[0m\n",
      "\u001b[1;31mKeyboardInterrupt\u001b[0m: Interrupted by user"
     ]
    }
   ],
   "source": [
    "guss = random.randint(1,101)\n",
    "g = int(input('请输入一个数字'))\n",
    "a = 100\n",
    "b = 0\n",
    "i = 0\n",
    "while i < 6:\n",
    "    if guss>g:\n",
    "        print('输入的数值范围为({}-{})，请重新输入'.format(g,a))\n",
    "        i = i+1\n",
    "        a = g\n",
    "        g = int(input('请输入一个数字'))\n",
    "        \n",
    "    elif guss<g:\n",
    "        print('输入的数值范围为（{}-{}），请重新输入'.format(b,g))\n",
    "        i = i+1\n",
    "        b = g\n",
    "        g = int(input('请输入一个数字'))\n",
    "    else:\n",
    "        print('你猜了{}次对了'.format(i))\n",
    "        break\n",
    "print('你猜了6次没猜对')"
   ]
  },
  {
   "cell_type": "code",
   "execution_count": 34,
   "id": "9dbb9c84",
   "metadata": {},
   "outputs": [
    {
     "name": "stdout",
     "output_type": "stream",
     "text": [
      "第1次输入的数据范围为（1，100），请输入一个数字33\n",
      "第2次输入的数据范围为（33，100），请输入一个数字56\n",
      "第3次输入的数据范围为（33，56），请输入一个数字43\n",
      "第4次输入的数据范围为（43，56），请输入一个数字46\n",
      "第5次输入的数据范围为（46，56），请输入一个数字50\n",
      "第6次输入的数据范围为（50，56），请输入一个数字53\n",
      "第7次输入的数据范围为（53，56），请输入一个数字55\n",
      "第8次输入的数据范围为（53，55），请输入一个数字54\n",
      "你猜对了\n"
     ]
    }
   ],
   "source": [
    "count = 1\n",
    "start = 1\n",
    "end = 100\n",
    "print('第{}次输入的数据范围为（{}，{}），请输入一个数字'.format(count,start,end),end=\"\")\n",
    "num = eval(input())\n",
    "guss = random.randint(1,101)\n",
    "while（1）:\n",
    "    if guss < num:\n",
    "        count =count + 1\n",
    "        end = num\n",
    "        print('第{}次输入的数据范围为（{}，{}），请输入一个数字'.format(count,start,end),end=\"\")\n",
    "        num = eval(input())\n",
    "    elif guss > num:        \n",
    "        count = count + 1\n",
    "        start = num\n",
    "        print('第{}次输入的数据范围为（{}，{}），请输入一个数字'.format(count,start,end),end=\"\")\n",
    "        num = eval(input())\n",
    "    else:\n",
    "        print('你猜对了')\n",
    "        break\n",
    "\n",
    "        "
   ]
  },
  {
   "cell_type": "code",
   "execution_count": 36,
   "id": "30a9746e",
   "metadata": {},
   "outputs": [
    {
     "name": "stdout",
     "output_type": "stream",
     "text": [
      "请输入一个数据： 43\n",
      "43 <class 'int'>\n"
     ]
    }
   ],
   "source": [
    "num = int(input('请输入一个数据： '))\n",
    "print(num,type(num))\n"
   ]
  },
  {
   "cell_type": "code",
   "execution_count": 37,
   "id": "5a57edf6",
   "metadata": {},
   "outputs": [
    {
     "name": "stdout",
     "output_type": "stream",
     "text": [
      "43 <class 'str'>\n"
     ]
    }
   ],
   "source": [
    "num_str = str(num)\n",
    "print(num_str,type(num_str))"
   ]
  },
  {
   "cell_type": "code",
   "execution_count": 56,
   "id": "208c0366",
   "metadata": {},
   "outputs": [],
   "source": [
    "for ss in num_str:\n",
    "    if ss == \"7\":\n",
    "        print(\"包含7\")\n",
    "    "
   ]
  },
  {
   "cell_type": "code",
   "execution_count": 67,
   "id": "a507f376",
   "metadata": {},
   "outputs": [],
   "source": [
    "\n",
    "n=0\n",
    "list=[]\n",
    "for num in range(1,101):\n",
    "    i_str = str(i)\n",
    "    if i%7==0:\n",
    "        if i_str[-1] is \"7\" or i_str[0] is \"7\":\n",
    "            list.append(i)\n",
    "           \n",
    "        else:\n",
    "            continue\n",
    "           \n",
    "    else:\n",
    "        continue\n",
    "            \n",
    "print(list)\n",
    "    \n",
    "        "
   ]
  },
  {
   "cell_type": "code",
   "execution_count": 62,
   "id": "dc5f14a9",
   "metadata": {
    "collapsed": true
   },
   "outputs": [
    {
     "name": "stdout",
     "output_type": "stream",
     "text": [
      "7\n",
      "14\n",
      "17\n",
      "21\n",
      "27\n",
      "28\n",
      "35\n",
      "37\n",
      "42\n",
      "47\n",
      "49\n",
      "56\n",
      "57\n",
      "63\n",
      "67\n",
      "70\n",
      "71\n",
      "72\n",
      "73\n",
      "74\n",
      "75\n",
      "76\n",
      "77\n",
      "78\n",
      "79\n",
      "84\n",
      "87\n",
      "91\n",
      "97\n",
      "98\n"
     ]
    }
   ],
   "source": [
    "for num in range(1,101):\n",
    "    n = len(str(num))\n",
    "    if n != 2:\n",
    "        temp_a = str(num)\n",
    "        if num%7 == 0:\n",
    "            print(num)\n",
    "        elif\"7\"==temp_a:\n",
    "            print(num)            \n",
    "        else:\n",
    "            continue\n",
    "    else:\n",
    "        temp_a,temp_b = str(num)\n",
    "        if num%7 == 0:\n",
    "            print(num)\n",
    "        elif\"7\" in [temp_a,temp_b]:\n",
    "            print(num)            \n",
    "        else:\n",
    "            continue"
   ]
  },
  {
   "cell_type": "code",
   "execution_count": 63,
   "id": "a7825a46",
   "metadata": {},
   "outputs": [
    {
     "name": "stdout",
     "output_type": "stream",
     "text": [
      "7\n",
      "14\n",
      "17\n",
      "21\n",
      "27\n",
      "28\n",
      "35\n",
      "37\n",
      "42\n",
      "47\n",
      "49\n",
      "56\n",
      "57\n",
      "63\n",
      "67\n",
      "70\n",
      "71\n",
      "72\n",
      "73\n",
      "74\n",
      "75\n",
      "76\n",
      "77\n",
      "78\n",
      "79\n",
      "84\n",
      "87\n",
      "91\n",
      "97\n",
      "98\n"
     ]
    }
   ],
   "source": [
    "for num in range(1,100):\n",
    "    if \"7\" in str(num):\n",
    "        print(num)\n",
    "    else:\n",
    "        if num%7 == 0:\n",
    "            print(num)\n",
    "        else:\n",
    "            continue"
   ]
  },
  {
   "cell_type": "code",
   "execution_count": null,
   "id": "2ac74a59",
   "metadata": {},
   "outputs": [],
   "source": []
  }
 ],
 "metadata": {
  "kernelspec": {
   "display_name": "Python 3",
   "language": "python",
   "name": "python3"
  },
  "language_info": {
   "codemirror_mode": {
    "name": "ipython",
    "version": 3
   },
   "file_extension": ".py",
   "mimetype": "text/x-python",
   "name": "python",
   "nbconvert_exporter": "python",
   "pygments_lexer": "ipython3",
   "version": "3.6.7"
  }
 },
 "nbformat": 4,
 "nbformat_minor": 5
}
